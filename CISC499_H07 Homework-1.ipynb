{
 "cells": [
  {
   "cell_type": "markdown",
   "metadata": {
    "id": "PaoyeZeGUT9z"
   },
   "source": [
    "Task #1: This sentence has a typo ('Mahcine' is mispelled).  Edit this text cell and correct it: **Machine Learning and Data Science**\n"
   ]
  },
  {
   "cell_type": "markdown",
   "metadata": {
    "id": "G8GcBiC2U8y8"
   },
   "source": [
    "Task #2: Run the statement below to calculate the result."
   ]
  },
  {
   "cell_type": "code",
   "execution_count": 2,
   "metadata": {
    "id": "BfEei4XwUSXc"
   },
   "outputs": [
    {
     "name": "stdout",
     "output_type": "stream",
     "text": [
      "Hello World!\n"
     ]
    }
   ],
   "source": [
    "print(\"Hello World!\")"
   ]
  },
  {
   "cell_type": "markdown",
   "metadata": {
    "id": "IwlNSsW2VFbD"
   },
   "source": [
    "Task #3: Update the message in the text so that it greets you instead of me."
   ]
  },
  {
   "cell_type": "code",
   "execution_count": null,
   "metadata": {
    "id": "Et00R3zvUIr9"
   },
   "outputs": [],
   "source": [
    "print (\"Hello Curtis Profitt!\")"
   ]
  },
  {
   "cell_type": "markdown",
   "metadata": {
    "id": "1G3yOnQjVSpn"
   },
   "source": [
    "Task #4: The code statement below is intended to calculate the number of minutes in a day (60 minutes in an hour, 24 hours in a day), but it isn't correct.  It should be 1440.  Fix it so that it will correctly display the number of minutes in a day."
   ]
  },
  {
   "cell_type": "code",
   "execution_count": null,
   "metadata": {
    "id": "PvAfbIjDVgFp"
   },
   "outputs": [],
   "source": [
    "minutes_in_day = 60 * 24\n",
    "print(\"There are \" + str(minutes_in_day) + \" minutes in a day\")"
   ]
  },
  {
   "cell_type": "markdown",
   "metadata": {
    "id": "3PYKudHLWQ1m"
   },
   "source": [
    "Task #5: Fix the syntax error in the statement below.  \n",
    "It should be</br>\n",
    "```\n",
    "print(\"Hello World\")\n",
    "```"
   ]
  },
  {
   "cell_type": "code",
   "execution_count": null,
   "metadata": {
    "id": "8YSuRzyCWA9A"
   },
   "outputs": [],
   "source": [
    "print(\"Hello World\")"
   ]
  },
  {
   "cell_type": "markdown",
   "metadata": {
    "id": "A14IpVBQbthf"
   },
   "source": [
    "Task #6: Change the statement below so that it prints hello"
   ]
  },
  {
   "cell_type": "code",
   "execution_count": null,
   "metadata": {
    "id": "1nkyI9CZb_Dw"
   },
   "outputs": [],
   "source": [
    "x = \"hello\"\n",
    "print(x)"
   ]
  },
  {
   "cell_type": "markdown",
   "metadata": {
    "id": "L8vhNfAocFKV"
   },
   "source": [
    "Task #7: Change the operation below from addition to subtraction"
   ]
  },
  {
   "cell_type": "code",
   "execution_count": null,
   "metadata": {
    "id": "nngQKyYpcYlt"
   },
   "outputs": [],
   "source": [
    "x = 4 - 3\n",
    "print(x)"
   ]
  },
  {
   "cell_type": "markdown",
   "metadata": {
    "id": "nJ2J2BBeccCj"
   },
   "source": [
    "Task #8: Change the operation below from multiplication to division"
   ]
  },
  {
   "cell_type": "code",
   "execution_count": null,
   "metadata": {
    "id": "6JIhZORycg-T"
   },
   "outputs": [],
   "source": [
    "x = 4 / 3\n",
    "print(x)"
   ]
  },
  {
   "cell_type": "markdown",
   "metadata": {
    "id": "6AppPq2vckWt"
   },
   "source": [
    "Task #9: Change the operation below from division to integer-division"
   ]
  },
  {
   "cell_type": "code",
   "execution_count": null,
   "metadata": {
    "id": "yuRo2QDEcpBf"
   },
   "outputs": [],
   "source": [
    "y = 4 // 3\n",
    "print(y)"
   ]
  },
  {
   "cell_type": "markdown",
   "metadata": {
    "id": "8NZ9d-HWcxLI"
   },
   "source": [
    "Task #10: Change the operation below from integer-division to modulus (%)"
   ]
  },
  {
   "cell_type": "code",
   "execution_count": null,
   "metadata": {
    "id": "s7nxEcXJc2n2"
   },
   "outputs": [],
   "source": [
    "y = 4 /% 3\n",
    "print(y)"
   ]
  },
  {
   "cell_type": "markdown",
   "metadata": {
    "id": "Q3QwpNImc82b"
   },
   "source": [
    "Task #11: You can use the '+' operator to concatenate strings.  Use it to combine the two strings in the code below."
   ]
  },
  {
   "cell_type": "code",
   "execution_count": null,
   "metadata": {
    "id": "hxPEwYscdwip"
   },
   "outputs": [],
   "source": [
    "string1 = 'Artificial '\n",
    "string2 = 'Intelligence '\n",
    "string3 = string1 + string2\n",
    "print(string3)"
   ]
  },
  {
   "cell_type": "markdown",
   "metadata": {
    "id": "ZfaGOSMpeBcY"
   },
   "source": [
    "Task #12: It's been a while since we've used x & y, but they are still available.  Add them together and display the results below."
   ]
  },
  {
   "cell_type": "code",
   "execution_count": null,
   "metadata": {
    "id": "CD2zhV2OeUt5"
   },
   "outputs": [],
   "source": [
    "result_12 = x + y\n",
    "print(f'The result of adding x and y is {result_12}')"
   ]
  },
  {
   "cell_type": "markdown",
   "metadata": {
    "id": "80ndHVjyebnw"
   },
   "source": [
    "Task #13: Raise 2 to the power of 8.  Remember! in Python the exponent operator is **\n"
   ]
  },
  {
   "cell_type": "code",
   "execution_count": null,
   "metadata": {
    "id": "4TXiml_Ner8N"
   },
   "outputs": [],
   "source": [
    "result_13 = 2 ** 8\n",
    "print(f'2 to the power of 8 is {result_13}')"
   ]
  },
  {
   "cell_type": "markdown",
   "metadata": {
    "id": "nj69g1ynewy7"
   },
   "source": [
    "Task #14: Calculate the decimal value of the maximum size of a byte.  See the lesson on Number Systems if you're not sure how to do this."
   ]
  },
  {
   "cell_type": "code",
   "execution_count": null,
   "metadata": {
    "id": "Nn9Ll78pfJ1B"
   },
   "outputs": [],
   "source": [
    "result_14 = int('11111111', 2)\n",
    "print(f'The decimal value of the maximum size of a byte is {result_14}')"
   ]
  },
  {
   "cell_type": "markdown",
   "metadata": {
    "id": "5VfgNQD2fIOZ"
   },
   "source": [
    "Task #15: Variables hold their values and can be re-used.  The statements below add 1 to the original number 3 times.  Change it from adding 1 to adding 2."
   ]
  },
  {
   "cell_type": "code",
   "execution_count": null,
   "metadata": {
    "id": "qQJ1NTRnfzbR"
   },
   "outputs": [],
   "source": [
    "x = 3\n",
    "x = x + 2\n",
    "x = x + 2\n",
    "x = x + 2\n",
    "print(x)"
   ]
  },
  {
   "cell_type": "markdown",
   "metadata": {
    "id": "FBSsizNEf76i"
   },
   "source": [
    "Task #16: Variable names can be almost anything, but generally begin with a lowercase letter.  Change the variable name from my last name to yours."
   ]
  },
  {
   "cell_type": "code",
   "execution_count": null,
   "metadata": {
    "id": "IFnYXPcKgLir"
   },
   "outputs": [],
   "source": [
    "profitt = 'Awesome!'"
   ]
  },
  {
   "cell_type": "markdown",
   "metadata": {
    "id": "uq7vSCCOgPM5"
   },
   "source": [
    "Task #17: Don't confuse the variable name with the string literal.  Change the string literal in the code below to \"moon\""
   ]
  },
  {
   "cell_type": "code",
   "execution_count": null,
   "metadata": {
    "id": "3sEbg7f0gpnI"
   },
   "outputs": [],
   "source": [
    "night = 'moon'"
   ]
  },
  {
   "cell_type": "markdown",
   "metadata": {
    "id": "R4S3f6xoguIk"
   },
   "source": [
    "Task #18: Use the code cell below to calculate the remainder of 13 divided by 7"
   ]
  },
  {
   "cell_type": "code",
   "execution_count": null,
   "metadata": {
    "id": "PC_b-cYLg95u"
   },
   "outputs": [],
   "source": [
    "remainder = 13 % 7\n",
    "print(remainder)"
   ]
  },
  {
   "cell_type": "markdown",
   "metadata": {
    "id": "BYAmtIj5hCpC"
   },
   "source": [
    "Task #19: A program is similar to a recipe.  Modify the program below so that it bakes 325 for 40 minutes."
   ]
  },
  {
   "cell_type": "code",
   "execution_count": null,
   "metadata": {
    "id": "N2wEzXb9iIiW"
   },
   "outputs": [],
   "source": [
    "flour = \"1 cup\"\n",
    "salt = \"1 teaspoon\"\n",
    "oil = \"2 tablespoons\"\n",
    "baking_soda = \"1 teaspoon\"\n",
    "mix = flour + salt + oil + baking_soda\n",
    "instructions = mix + \" at 400 for 20 minutes\"\n",
    "print(bake)"
   ]
  },
  {
   "cell_type": "markdown",
   "metadata": {
    "id": "ha9Etc-UjFrn"
   },
   "source": [
    "Task #20: Write your own recipe in the code cell below."
   ]
  },
  {
   "cell_type": "code",
   "execution_count": null,
   "metadata": {
    "id": "Zz99eczIjOFI"
   },
   "outputs": [],
   "source": [
    "flour = \"1 cup\"\n",
    "salt = \"1 teaspoon\"\n",
    "oil = \"2 tablespoons\"\n",
    "baking_soda = \"1 teaspoon\"\n",
    "mix = flour + \", \" + salt + \", \" + oil + \", \" + baking_soda\n",
    "instructions = mix + \" at 325 for 40 minutes\"\n",
    "print(instructions)"
   ]
  }
 ],
 "metadata": {
  "colab": {
   "collapsed_sections": [],
   "name": "CISC499-H07.ipynb",
   "provenance": []
  },
  "kernelspec": {
   "display_name": "Python 3 (ipykernel)",
   "language": "python",
   "name": "python3"
  },
  "language_info": {
   "codemirror_mode": {
    "name": "ipython",
    "version": 3
   },
   "file_extension": ".py",
   "mimetype": "text/x-python",
   "name": "python",
   "nbconvert_exporter": "python",
   "pygments_lexer": "ipython3",
   "version": "3.13.2"
  }
 },
 "nbformat": 4,
 "nbformat_minor": 4
}
