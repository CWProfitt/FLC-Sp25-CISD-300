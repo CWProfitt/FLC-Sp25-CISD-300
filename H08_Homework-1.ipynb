{
 "cells": [
  {
   "cell_type": "markdown",
   "metadata": {
    "id": "ha7csAunKZN7"
   },
   "source": [
    "Module08-Homework08\n",
    "In this assignment, you will implement the house price calculator based on the square footage created in Module05:\n",
    "\n",
    "  y = 64.28571 * x + 125000\n",
    "\n",
    "Using the equation above, write a program that uses a loop to display the home price for houses with square feet of 1750, 1800, 1850, 1900, 1950, 2000\n",
    "\n",
    "Python Survival Guide provided as attachment in Module 08. \n",
    "\n",
    "Expected Output:\n",
    "\n",
    "```\n",
    "A house with 1750 square feet is estimated to cost $237499.9925\n",
    "A house with 1800 square feet is estimated to cost $240714.278\n",
    "A house with 1850 square feet is estimated to cost $243928.5635\n",
    "A house with 1900 square feet is estimated to cost $247142.849\n",
    "A house with 1950 square feet is estimated to cost $250357.1345\n",
    "A house with 2000 square feet is estimated to cost $253571.41999999998\n",
    "```"
   ]
  },
  {
   "cell_type": "code",
   "execution_count": null,
   "metadata": {},
   "outputs": [],
   "source": [
    "# Define the equation for house price calculation\n",
    "def calculate_house_price(square_feet):\n",
    "    return 64.28571 * square_feet + 125000\n",
    "\n",
    "# List of square feet values\n",
    "square_feet_values = [1750, 1800, 1850, 1900, 1950, 2000]\n",
    "\n",
    "# Loop through each square feet value and calculate the house price\n",
    "for square_feet in square_feet_values:\n",
    "    price = calculate_house_price(square_feet)\n",
    "    print(f'A house with {square_feet} square feet is estimated to cost ${price}')"
   ]
  }
 ],
 "metadata": {
  "colab": {
   "provenance": []
  },
  "kernelspec": {
   "display_name": "Python 3 (ipykernel)",
   "language": "python",
   "name": "python3"
  },
  "language_info": {
   "codemirror_mode": {
    "name": "ipython",
    "version": 3
   },
   "file_extension": ".py",
   "mimetype": "text/x-python",
   "name": "python",
   "nbconvert_exporter": "python",
   "pygments_lexer": "ipython3",
   "version": "3.13.2"
  }
 },
 "nbformat": 4,
 "nbformat_minor": 4
}
